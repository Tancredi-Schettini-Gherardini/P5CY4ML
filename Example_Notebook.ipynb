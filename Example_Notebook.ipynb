{
 "cells": [
  {
   "cell_type": "code",
   "execution_count": 6,
   "id": "e9fc0dc5",
   "metadata": {},
   "outputs": [
    {
     "name": "stdout",
     "output_type": "stream",
     "text": [
      "Let us illustrate how to use our code\n",
      "As the first thing, we import the libraries and the definitions needed\n"
     ]
    }
   ],
   "source": [
    "print(\"Let us illustrate how to use our code\")\n",
    "print(\"As the first thing, we import the libraries and the definitions needed\")"
   ]
  },
  {
   "cell_type": "code",
   "execution_count": 7,
   "id": "c8560bcd",
   "metadata": {},
   "outputs": [],
   "source": [
    "import numpy as np\n",
    "from numpy.polynomial import polynomial as P\n",
    "from itertools import product\n",
    "import matplotlib.pyplot as plt\n",
    "import time\n",
    "from Definitions import *"
   ]
  },
  {
   "cell_type": "code",
   "execution_count": 8,
   "id": "1dc1a328",
   "metadata": {},
   "outputs": [
    {
     "name": "stdout",
     "output_type": "stream",
     "text": [
      "Then, we introduce our functions with an example based on a simple C-Y three-fold\n"
     ]
    }
   ],
   "source": [
    "print(\"Then, we introduce our functions with an example based on a simple C-Y three-fold\")\n",
    "print(\"Let us start with the exact formula\")"
   ]
  },
  {
   "cell_type": "code",
   "execution_count": 13,
   "id": "2a437a44",
   "metadata": {},
   "outputs": [
    {
     "name": "stdout",
     "output_type": "stream",
     "text": [
      "The full polynomial is:\n",
      "[[  1.   3.   3.]\n",
      " [ 14.   2.   2.]\n",
      " [ 14.   1.   1.]\n",
      " [  1.   0.   0.]\n",
      " [ -1.   0.   3.]\n",
      " [-84.   1.   2.]\n",
      " [-84.   2.   1.]\n",
      " [ -1.   3.   0.]]\n",
      "...from which we read the following non-trivial Hodge numbers: [h11, h12] =  [14.0, 84.0]\n",
      "The computational time was:\n",
      "11.964545249938965 seconds\n"
     ]
    }
   ],
   "source": [
    "example_weight_threefold = [10, 27, 53, 85, 175]\n",
    "# Define the weight system\n",
    "\n",
    "start_e = time.time()\n",
    "exact_poly, approx_poly = Poincare_clean(np.array(np.array(example_weight_threefold)))\n",
    "end_e = time.time()\n",
    "time_e = end_e - start_e\n",
    "# Finds both the exact result and the approximation, and saves the time needed to compute the full formula.\n",
    "\n",
    "print(\"The full polynomial is:\")\n",
    "print(exact_poly)\n",
    "print(\"...from which we read the following non-trivial Hodge numbers: [h11, h12] = \", Hodge_reader_3folds(exact_poly))\n",
    "print(\"The computational time was:\")\n",
    "print(time_e, \"seconds\")"
   ]
  },
  {
   "cell_type": "code",
   "execution_count": 14,
   "id": "bc9c3515",
   "metadata": {},
   "outputs": [
    {
     "name": "stdout",
     "output_type": "stream",
     "text": [
      "And we now move to the approximation\n"
     ]
    }
   ],
   "source": [
    "print(\"And we now move to the approximation\")"
   ]
  },
  {
   "cell_type": "code",
   "execution_count": 15,
   "id": "e8983fe4",
   "metadata": {},
   "outputs": [
    {
     "name": "stdout",
     "output_type": "stream",
     "text": [
      "The truncated polynomial is:\n",
      "[[  1.   3.   3.]\n",
      " [ 10.   2.   2.]\n",
      " [ 10.   1.   1.]\n",
      " [  1.   0.   0.]\n",
      " [ -1.   0.   3.]\n",
      " [-84.   1.   2.]\n",
      " [-84.   2.   1.]\n",
      " [ -1.   3.   0.]]\n",
      "...from which we read the following approximated Hodge numbers:  [10.0, 84.0]\n",
      "The computational time was:\n",
      "0.330125093460083 seconds\n"
     ]
    }
   ],
   "source": [
    "start_a = time.time()\n",
    "approximated_poly = Poincare_approx_clean(np.array(np.array(example_weight_threefold)))\n",
    "end_a = time.time()\n",
    "time_a = end_a - start_a\n",
    "# Finds the truncated version, and saves the time needed to calculate it.\n",
    "\n",
    "print(\"The truncated polynomial is:\")\n",
    "print(approximated_poly)\n",
    "print(\"...from which we read the following approximated Hodge numbers: \", Hodge_reader_3folds(approximated_poly))\n",
    "print(\"The computational time was:\")\n",
    "print(time_a, \"seconds\")"
   ]
  },
  {
   "cell_type": "code",
   "execution_count": null,
   "id": "e97a066c",
   "metadata": {},
   "outputs": [],
   "source": [
    "print(\"And now a C-Y four-fold\")"
   ]
  },
  {
   "cell_type": "code",
   "execution_count": 17,
   "id": "52425247",
   "metadata": {},
   "outputs": [
    {
     "name": "stdout",
     "output_type": "stream",
     "text": [
      "The full polynomial is:\n",
      "[[  1.   4.   4.]\n",
      " [122.   3.   3.]\n",
      " [824.   2.   2.]\n",
      " [122.   1.   1.]\n",
      " [  1.   0.   0.]\n",
      " [  1.   0.   4.]\n",
      " [ 76.   1.   3.]\n",
      " [ 76.   3.   1.]\n",
      " [ -6.   2.   3.]\n",
      " [ -6.   1.   2.]\n",
      " [ -6.   3.   2.]\n",
      " [ -6.   2.   1.]\n",
      " [  1.   4.   0.]]\n",
      "...from which we read the following Hodge numbers: [h11, h12, h13, h22]=  [122.0, 6.0, 76.0, 824.0]\n",
      "The computational time was:\n",
      "33.12689161300659 seconds\n",
      "---------------------------------------\n",
      "The truncated polynomial is:\n",
      "[[  1.   4.   4.]\n",
      " [118.   3.   3.]\n",
      " [787.   2.   2.]\n",
      " [118.   1.   1.]\n",
      " [  1.   0.   0.]\n",
      " [  1.   0.   4.]\n",
      " [ 75.   1.   3.]\n",
      " [ 75.   3.   1.]\n",
      " [  1.   4.   0.]]\n",
      "...from which we read the following approximated Hodge numbers:[h11, h12, h13, h22]=  [118.0, 0, 75.0, 787.0]\n",
      "The computational time was:\n",
      "0.6770708560943604 seconds\n"
     ]
    }
   ],
   "source": [
    "example_weight_fourfold = [ 10,  27,  36,  38, 159, 234]\n",
    "\n",
    "start_e = time.time()\n",
    "exact_poly, approx_poly = Poincare_clean(np.array(np.array(example_weight_fourfold)))\n",
    "end_e = time.time()\n",
    "time_e = end_e - start_e\n",
    "# Finds both the exact result and the approximation, and saves the time needed to compute the full formula.\n",
    "\n",
    "start_a = time.time()\n",
    "approximated_poly = Poincare_approx_clean(np.array(np.array(example_weight_fourfold)))\n",
    "end_a = time.time()\n",
    "time_a = end_a - start_a\n",
    "# Finds the truncated version, and saves the time needed to calculate it.\n",
    "\n",
    "print(\"The full polynomial is:\")\n",
    "print(exact_poly)\n",
    "print(\"...from which we read the following Hodge numbers: [h11, h12, h13, h22] = \", Hodge_reader_4folds(exact_poly))\n",
    "print(\"The computational time was:\")\n",
    "print(time_e, \"seconds\")\n",
    "print(\"---------------------------------------\")\n",
    "print(\"The truncated polynomial is:\")\n",
    "print(approximated_poly)\n",
    "print(\"...from which we read the following approximated Hodge numbers:[h11, h12, h13, h22] = \", Hodge_reader_4folds(approximated_poly))\n",
    "print(\"The computational time was:\")\n",
    "print(time_a, \"seconds\")"
   ]
  },
  {
   "cell_type": "code",
   "execution_count": null,
   "id": "c986f96d",
   "metadata": {},
   "outputs": [],
   "source": []
  }
 ],
 "metadata": {
  "kernelspec": {
   "display_name": "Python 3 (ipykernel)",
   "language": "python",
   "name": "python3"
  },
  "language_info": {
   "codemirror_mode": {
    "name": "ipython",
    "version": 3
   },
   "file_extension": ".py",
   "mimetype": "text/x-python",
   "name": "python",
   "nbconvert_exporter": "python",
   "pygments_lexer": "ipython3",
   "version": "3.10.9"
  }
 },
 "nbformat": 4,
 "nbformat_minor": 5
}
